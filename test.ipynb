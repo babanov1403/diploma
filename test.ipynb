{
 "cells": [
  {
   "cell_type": "code",
   "execution_count": 1,
   "id": "efc30334",
   "metadata": {},
   "outputs": [],
   "source": [
    "import numpy as np"
   ]
  },
  {
   "cell_type": "code",
   "execution_count": 11,
   "id": "037f675b",
   "metadata": {},
   "outputs": [
    {
     "data": {
      "text/plain": [
       "True"
      ]
     },
     "execution_count": 11,
     "metadata": {},
     "output_type": "execute_result"
    }
   ],
   "source": [
    "np.allclose(28.999993, 29)"
   ]
  },
  {
   "cell_type": "code",
   "execution_count": 11,
   "id": "682ab812",
   "metadata": {},
   "outputs": [
    {
     "name": "stdout",
     "output_type": "stream",
     "text": [
      "[[1 2 3]\n",
      " [4 5 6]\n",
      " [7 8 9]]\n"
     ]
    },
    {
     "data": {
      "text/plain": [
       "array([[1, 2, 3],\n",
       "       [4, 0, 0],\n",
       "       [7, 0, 0]])"
      ]
     },
     "execution_count": 11,
     "metadata": {},
     "output_type": "execute_result"
    }
   ],
   "source": [
    "arr = np.array([[1, 2, 3], [4, 5, 6], [7, 8, 9]])\n",
    "idxes = np.array([1, 2])\n",
    "idxes.sort()\n",
    "\n",
    "print(arr)\n",
    "\n",
    "other = np.array([[0, 0], [0, 0]])\n",
    "\n",
    "arr[np.ix_(idxes, idxes)] = other\n",
    "arr"
   ]
  },
  {
   "cell_type": "code",
   "execution_count": null,
   "id": "f2b6a25d",
   "metadata": {},
   "outputs": [],
   "source": [
    "c = np.array([2, 3 , 4, 5, 6])\n",
    "c = c.transpose()\n",
    "\n",
    "idx = 2\n",
    "\n",
    "arr[idx]\n",
    "\n",
    "test = np.array([[0, 0], [0, 0]])\n",
    "\n"
   ]
  },
  {
   "cell_type": "code",
   "execution_count": null,
   "id": "aee4e6f9",
   "metadata": {},
   "outputs": [],
   "source": [
    "matrix[idxes, :][:, jdxes]"
   ]
  },
  {
   "cell_type": "code",
   "execution_count": 6,
   "id": "aeaa99e5",
   "metadata": {},
   "outputs": [],
   "source": [
    "arr[np.ix_(idxes, idxes)] = test"
   ]
  },
  {
   "cell_type": "code",
   "execution_count": null,
   "id": "3f3683d2",
   "metadata": {},
   "outputs": [
    {
     "data": {
      "text/plain": [
       "array([[1, 2, 3],\n",
       "       [4, 0, 0],\n",
       "       [7, 0, 0]])"
      ]
     },
     "execution_count": 7,
     "metadata": {},
     "output_type": "execute_result"
    }
   ],
   "source": [
    "np"
   ]
  },
  {
   "cell_type": "code",
   "execution_count": 8,
   "id": "b990dcb5",
   "metadata": {},
   "outputs": [
    {
     "data": {
      "text/plain": [
       "array([], dtype=int64)"
      ]
     },
     "execution_count": 8,
     "metadata": {},
     "output_type": "execute_result"
    }
   ],
   "source": [
    "lol = np.array([1], dtype=np.int64)\n",
    "lol = lol[lol != 1]\n",
    "lol"
   ]
  }
 ],
 "metadata": {
  "kernelspec": {
   "display_name": "Python 3",
   "language": "python",
   "name": "python3"
  },
  "language_info": {
   "codemirror_mode": {
    "name": "ipython",
    "version": 3
   },
   "file_extension": ".py",
   "mimetype": "text/x-python",
   "name": "python",
   "nbconvert_exporter": "python",
   "pygments_lexer": "ipython3",
   "version": "3.10.12"
  }
 },
 "nbformat": 4,
 "nbformat_minor": 5
}
